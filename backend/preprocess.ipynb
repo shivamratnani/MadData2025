{
 "cells": [
  {
   "cell_type": "code",
   "execution_count": 11,
   "metadata": {},
   "outputs": [],
   "source": [
    "from transformers import BertTokenizer, BertModel, BertForSequenceClassification\n",
    "#from transformers import pipeline\n",
    "# For fine-tuning\n",
    "import torch\n",
    "#from torch import nn\n",
    "#from torch.utils.data import Dataset, DataLoader\n",
    "# For processing\n",
    "import numpy as np\n",
    "import pandas as pd\n",
    "import os\n",
    "import json"
   ]
  },
  {
   "cell_type": "code",
   "execution_count": 12,
   "metadata": {},
   "outputs": [
    {
     "data": {
      "text/plain": [
       "29345"
      ]
     },
     "execution_count": 12,
     "metadata": {},
     "output_type": "execute_result"
    }
   ],
   "source": [
    "folder_path = \"./dreams\"\n",
    "count = 0\n",
    "all_files = []\n",
    "for i in os.listdir(folder_path):\n",
    "    if i.endswith('.json'):\n",
    "        count+=1\n",
    "        all_files.append(i)\n",
    "dreams = []\n",
    "for i in all_files:\n",
    "    full_name  = os.path.join(folder_path,i)\n",
    "    with open(full_name,'r') as f:\n",
    "        data = json.load(f)\n",
    "        for x in data['dreams']:\n",
    "            dreams.append({\n",
    "                \"content\":x.get(\"content\",\"\")\n",
    "            })\n",
    "              \n",
    "df = pd.DataFrame(dreams)\n",
    "#print(count)\n",
    "df.size"
   ]
  },
  {
   "cell_type": "code",
   "execution_count": null,
   "metadata": {},
   "outputs": [
    {
     "name": "stdout",
     "output_type": "stream",
     "text": [
      "{'input_ids': tensor([[ 101, 1045, 2018, 1037, 3959, 2055, 3909,  102]]), 'token_type_ids': tensor([[0, 0, 0, 0, 0, 0, 0, 0]]), 'attention_mask': tensor([[1, 1, 1, 1, 1, 1, 1, 1]])}\n",
      "                                                                                         dinfosdnfosdnofsdn\n",
      "[1045, 2018, 1037, 3959, 2055, 3909]\n"
     ]
    }
   ],
   "source": [
    "\n",
    "#model from bert trained\n",
    "model = BertModel.from_pretrained('bert-base-uncased')\n",
    "#tokenizer will break the sentence down and split into word array and then \n",
    "tokenizer = BertTokenizer.from_pretrained('bert-base-uncased')\n",
    "text = \"I had a dream about flying\"\n",
    "#this is the input that automozatically converts into nunmbers\n",
    "inputs = tokenizer(\n",
    "    text, \n",
    "    return_tensors='pt',\n",
    "    max_length=512,        \n",
    "    truncation=True,       \n",
    "    padding=True           \n",
    ")\n",
    "#print(inputs)\n",
    "\n",
    "#print(\"                                                                                         dinfosdnfosdnofsdn\")\n",
    "#another waybof going about it where we can break it down\n",
    "inp = tokenizer.tokenize(\"I had a dream about flying\")\n",
    "#then convert each word into a numerical value\n",
    "ids = tokenizer.convert_tokens_to_ids(inp)\n",
    "#print(ids)\n",
    "#convert the numerical array into a tensor\n",
    "tens_ids = torch.tensor(ids)\n",
    "#want to \n",
    "with torch.no_grad():\n",
    "    outputs = model(**inputs)\n",
    "last_hidden_state = outputs.last_hidden_state  \n",
    "pooled_output = outputs.pooler_output  "
   ]
  },
  {
   "cell_type": "code",
   "execution_count": 14,
   "metadata": {},
   "outputs": [
    {
     "data": {
      "text/plain": [
       "tensor([[[ 0.1249,  0.2264, -0.3519,  ..., -0.2224,  0.2284,  0.1683],\n",
       "         [ 0.0719, -0.3525, -0.1092,  ..., -0.5893,  0.4822, -0.1437],\n",
       "         [ 0.1657, -0.1575,  0.3219,  ..., -0.6984, -0.1438, -0.2681],\n",
       "         ...,\n",
       "         [ 0.1226,  0.6299, -0.2976,  ..., -0.4775, -0.0297, -0.0102],\n",
       "         [ 0.0624, -0.0127, -0.6580,  ...,  0.2324,  0.4505, -0.2222],\n",
       "         [ 0.7634,  0.2097, -0.3422,  ..., -0.0912, -0.5637, -0.3376]]])"
      ]
     },
     "execution_count": 14,
     "metadata": {},
     "output_type": "execute_result"
    }
   ],
   "source": [
    "last_hidden_state"
   ]
  },
  {
   "cell_type": "code",
   "execution_count": null,
   "metadata": {},
   "outputs": [],
   "source": []
  }
 ],
 "metadata": {
  "kernelspec": {
   "display_name": "ml-env",
   "language": "python",
   "name": "python3"
  },
  "language_info": {
   "codemirror_mode": {
    "name": "ipython",
    "version": 3
   },
   "file_extension": ".py",
   "mimetype": "text/x-python",
   "name": "python",
   "nbconvert_exporter": "python",
   "pygments_lexer": "ipython3",
   "version": "3.10.13"
  }
 },
 "nbformat": 4,
 "nbformat_minor": 2
}
