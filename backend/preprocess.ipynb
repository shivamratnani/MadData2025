{
 "cells": [
  {
   "cell_type": "code",
   "execution_count": 4,
   "metadata": {},
   "outputs": [],
   "source": [
    "from transformers import BertTokenizer, BertModel, BertForSequenceClassification\n",
    "#from transformers import pipeline\n",
    "# For fine-tuning\n",
    "import torch\n",
    "#from torch import nn\n",
    "#from torch.utils.data import Dataset, DataLoader\n",
    "# For processing\n",
    "import numpy as np\n",
    "import pandas as pd\n",
    "import os\n",
    "import json"
   ]
  },
  {
   "cell_type": "code",
   "execution_count": 7,
   "metadata": {},
   "outputs": [
    {
     "ename": "FileNotFoundError",
     "evalue": "[Errno 2] No such file or directory: './dreams'",
     "output_type": "error",
     "traceback": [
      "\u001b[0;31m---------------------------------------------------------------------------\u001b[0m",
      "\u001b[0;31mFileNotFoundError\u001b[0m                         Traceback (most recent call last)",
      "Cell \u001b[0;32mIn[7], line 4\u001b[0m\n\u001b[1;32m      2\u001b[0m count \u001b[38;5;241m=\u001b[39m \u001b[38;5;241m0\u001b[39m\n\u001b[1;32m      3\u001b[0m all_files \u001b[38;5;241m=\u001b[39m []\n\u001b[0;32m----> 4\u001b[0m \u001b[38;5;28;01mfor\u001b[39;00m i \u001b[38;5;129;01min\u001b[39;00m \u001b[43mos\u001b[49m\u001b[38;5;241;43m.\u001b[39;49m\u001b[43mlistdir\u001b[49m\u001b[43m(\u001b[49m\u001b[43mfolder_path\u001b[49m\u001b[43m)\u001b[49m:\n\u001b[1;32m      5\u001b[0m     \u001b[38;5;28;01mif\u001b[39;00m i\u001b[38;5;241m.\u001b[39mendswith(\u001b[38;5;124m'\u001b[39m\u001b[38;5;124m.json\u001b[39m\u001b[38;5;124m'\u001b[39m):\n\u001b[1;32m      6\u001b[0m         count\u001b[38;5;241m+\u001b[39m\u001b[38;5;241m=\u001b[39m\u001b[38;5;241m1\u001b[39m\n",
      "\u001b[0;31mFileNotFoundError\u001b[0m: [Errno 2] No such file or directory: './dreams'"
     ]
    }
   ],
   "source": [
    "folder_path = \"./dreams\"\n",
    "count = 0\n",
    "all_files = []\n",
    "for i in os.listdir(folder_path):\n",
    "    if i.endswith('.json'):\n",
    "        count+=1\n",
    "        all_files.append(i)\n",
    "dreams = []\n",
    "for i in all_files:\n",
    "    full_name  = os.path.join(folder_path,i)\n",
    "    with open(full_name,'r') as f:\n",
    "        data = json.load(f)\n",
    "        for x in data['dreams']:\n",
    "            dreams.append({\n",
    "                \"content\":x.get(\"content\",\"\")\n",
    "            })\n",
    "              \n",
    "df = pd.DataFrame(dreams)\n",
    "#print(count)\n",
    "df.size"
   ]
  },
  {
   "cell_type": "code",
   "execution_count": 5,
   "metadata": {},
   "outputs": [
    {
     "data": {
      "application/vnd.jupyter.widget-view+json": {
       "model_id": "10424caa3a2e41e18bdcd7bcf5947e44",
       "version_major": 2,
       "version_minor": 0
      },
      "text/plain": [
       "config.json:   0%|          | 0.00/570 [00:00<?, ?B/s]"
      ]
     },
     "metadata": {},
     "output_type": "display_data"
    },
    {
     "data": {
      "application/vnd.jupyter.widget-view+json": {
       "model_id": "4ab020023a764c48aad58304565f1b31",
       "version_major": 2,
       "version_minor": 0
      },
      "text/plain": [
       "model.safetensors:   0%|          | 0.00/440M [00:00<?, ?B/s]"
      ]
     },
     "metadata": {},
     "output_type": "display_data"
    },
    {
     "data": {
      "application/vnd.jupyter.widget-view+json": {
       "model_id": "d9af3a49694a4abf9c871a5350be214c",
       "version_major": 2,
       "version_minor": 0
      },
      "text/plain": [
       "tokenizer_config.json:   0%|          | 0.00/48.0 [00:00<?, ?B/s]"
      ]
     },
     "metadata": {},
     "output_type": "display_data"
    },
    {
     "data": {
      "application/vnd.jupyter.widget-view+json": {
       "model_id": "371024cea28c4abf8f69a1a820d94c8b",
       "version_major": 2,
       "version_minor": 0
      },
      "text/plain": [
       "vocab.txt:   0%|          | 0.00/232k [00:00<?, ?B/s]"
      ]
     },
     "metadata": {},
     "output_type": "display_data"
    },
    {
     "data": {
      "application/vnd.jupyter.widget-view+json": {
       "model_id": "ea13697f57ff4d83b6c0ccd04ddb55ca",
       "version_major": 2,
       "version_minor": 0
      },
      "text/plain": [
       "tokenizer.json:   0%|          | 0.00/466k [00:00<?, ?B/s]"
      ]
     },
     "metadata": {},
     "output_type": "display_data"
    }
   ],
   "source": [
    "from transformers import BertModel, BertTokenizer\n",
    "import torch\n",
    "\n",
    "# 1. Load pre-trained BERT model and tokenizer\n",
    "model = BertModel.from_pretrained('bert-base-uncased')\n",
    "tokenizer = BertTokenizer.from_pretrained('bert-base-uncased')\n",
    "\n",
    "# 2. Prepare input text\n",
    "text = \"I had a dream about flying\"\n",
    "\n",
    "# 3. Tokenize and encode the text\n",
    "inputs = tokenizer(\n",
    "    text, \n",
    "    return_tensors='pt',  # Return PyTorch tensors\n",
    "    max_length=512,        # Maximum sequence length\n",
    "    truncation=True,       # Truncate longer sequences\n",
    "    padding=True           # Pad shorter sequences\n",
    ")\n",
    "\n",
    "# 4. Get BERT embeddings\n",
    "with torch.no_grad():\n",
    "    outputs = model(**inputs)\n",
    "\n",
    "# 5. Extract different types of embeddings\n",
    "last_hidden_state = outputs.last_hidden_state  # Token-level embeddings\n",
    "pooled_output = outputs.pooler_output  # Sentence-level representation"
   ]
  },
  {
   "cell_type": "code",
   "execution_count": 6,
   "metadata": {},
   "outputs": [
    {
     "data": {
      "text/plain": [
       "tensor([[[ 0.1249,  0.2264, -0.3519,  ..., -0.2224,  0.2284,  0.1683],\n",
       "         [ 0.0719, -0.3525, -0.1092,  ..., -0.5893,  0.4822, -0.1437],\n",
       "         [ 0.1657, -0.1575,  0.3219,  ..., -0.6984, -0.1438, -0.2681],\n",
       "         ...,\n",
       "         [ 0.1226,  0.6299, -0.2976,  ..., -0.4775, -0.0297, -0.0102],\n",
       "         [ 0.0624, -0.0127, -0.6580,  ...,  0.2324,  0.4505, -0.2222],\n",
       "         [ 0.7634,  0.2097, -0.3422,  ..., -0.0912, -0.5637, -0.3376]]])"
      ]
     },
     "execution_count": 6,
     "metadata": {},
     "output_type": "execute_result"
    }
   ],
   "source": [
    "last_hidden_state"
   ]
  }
 ],
 "metadata": {
  "kernelspec": {
   "display_name": "ml-env",
   "language": "python",
   "name": "python3"
  },
  "language_info": {
   "codemirror_mode": {
    "name": "ipython",
    "version": 3
   },
   "file_extension": ".py",
   "mimetype": "text/x-python",
   "name": "python",
   "nbconvert_exporter": "python",
   "pygments_lexer": "ipython3",
   "version": "3.10.13"
  }
 },
 "nbformat": 4,
 "nbformat_minor": 2
}
