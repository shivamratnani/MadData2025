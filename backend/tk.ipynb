{
 "cells": [
  {
   "cell_type": "code",
   "execution_count": 9,
   "metadata": {},
   "outputs": [
    {
     "name": "stderr",
     "output_type": "stream",
     "text": [
      "[nltk_data] Downloading package vader_lexicon to\n",
      "[nltk_data]     /Users/taraksristy/nltk_data...\n",
      "[nltk_data]   Package vader_lexicon is already up-to-date!\n"
     ]
    },
    {
     "name": "stdout",
     "output_type": "stream",
     "text": [
      "                                               content  sentiment\n",
      "87   standing church dozens clones matt friend gunn...    -0.9917\n",
      "112  doc christopher lloyd darth vader fighting lig...    -0.9917\n",
      "90   crazy dream begin working apartment filthy dis...    -0.9913\n",
      "970  killed brother middle mall may bruce willis ca...    -0.9892\n",
      "821  devil dragon orange moon pond near armstrong h...    -0.9887\n",
      "..                                                 ...        ...\n",
      "480  really neat dream last night one best organize...     0.9987\n",
      "584  last night dreamt people lived complex wedding...     0.9988\n",
      "442  dream sound last night got remember place like...     0.9989\n",
      "456  know going fit going try last night dream them...     0.9993\n",
      "575  last three nights pretty dynamic dreams finish...     0.9993\n",
      "\n",
      "[1000 rows x 2 columns]\n",
      "standing church dozens clones matt friend gunned cold blood machine gun fire hide pew gunfire starts see clones heads blown etc somehow knew situation outside really crappy even make alive living would highly questionable alternative dying whatever situation probably better dead crawling around half dead running life besides figured two things dying first got killed death turned nothing great least agony least torturers get second death turned way equally great crappy situation state affairs thought stood body ripped machine gun fire died found room two beautiful naked women one brunette one blonde matt sex blonde woman stop invite brunette points hallway explains needs go get womb ovaries placenta remember part reproductive system placenta know whether latter supposed baby every time goes hallway matt shoots death start never goes get never joins blonde\n",
      "last three nights pretty dynamic dreams finished whole blank tape reluctant start another one mostly writing journal rather typing feel like reason another need go back speaking tape think writing describe things differently write speak journal diary good like word sense per se syntax like sit come vivid descriptions things dreams things vivid describe words easier describe verbally actually writing words although sometimes may better write words capture detail way like wrote sheryl sandra sam singing stage jumping trampoline filled many details could think guess try keep saying one days want sample things want turn mp3 want cram tons single cd tapes laying around start using tapes stuff like every time thought rips want stop get middle night go turn machine grab microphone plug mixer go c get pro doot doot doot doot doot doot want grab take machine hit record start saying mind thinking totally goes away better consistent voice really matter much spectrum use tapes capture sit around diddling diddling diddling diddling fact go last night dream still clearest recent kind hit like ton bricks way heavy something thinking dreamt back home home town like away like coming home celebration little pinky celebration like three people think clark marylou terri talking real party going somehow mother riding bike sitting handlebars basket telling pregnant baby said want start father wanted another child want start baby wanted one said going love baby half much love sad first want start time life ready move things apparently like regular pregnancy term deal get pregnant four five days later baby pops messed man last scene dream bed laying talking mother various things signaling father side bed say anything really outlandish looked saw dream unusual side bed side bed side bed closest short mirror dresser stereo receiver room bed closer upright dresser night stand air conditioner thing jiggy dream kind reversed kind making small talk woke night dream real real kind foggy bleah blurry literally walking around blurry world concept happened kind clear either dreamt come home kind long trip needed something grandpa dark father truck mother car riding mother car father going go home depot get one two things grandpa go house mother said going go grocery shopping make copies said hope mind driving around much father like shows love want take care things around house house like wow would never say anything like real life never gushy mother really going gallivanting going stuff together area woods stopped car reason shut engine headlights still guiding banyan tree area think like several banyan trees net led know tripping roots everything butterfly caught net big butterfly size two hands put together hand wing looked like monarch touched helped get net flew felt good actually able see butterfly really remember dream third one two nights ago three nights ago dreamt kind beach mother father terri bunch people planning celebration reason think either graduated kind successful milestone going parade going school bus parade organizing like parade route bus driver really thick spanish accent lady know know outgoing sounded like cross terri serena potter leading everybody trying get fun party bus know buses intercom systems sometimes talk passengers well another cluster people yelling microphone saying party yahoo stuff like really surprised feedback dream law physics suspended funny aimed sitting like four rows back said jasmine say something remember said said something amplified though talking remember\n"
     ]
    }
   ],
   "source": [
    "import os\n",
    "import pandas as pd\n",
    "import json\n",
    "import torch\n",
    "from nltk.corpus import stopwords\n",
    "import nltk\n",
    "from transformers import BertTokenizer, BertModel\n",
    "import numpy as np\n",
    "from nltk.sentiment import SentimentIntensityAnalyzer\n",
    "import nltk\n",
    "nltk.download('vader_lexicon')\n",
    "\n",
    "stop_words = set(stopwords.words('english'))\n",
    "df = None\n",
    "def clean_text(text):\n",
    "    text = text.lower()  \n",
    "    text = ''.join([char if char.isalnum() else ' ' for char in text]) \n",
    "    text = ' '.join([word for word in text.split() if word not in stop_words])  \n",
    "    return text\n",
    "\n",
    "# what we do is we load the data frame in the same way we did the \n",
    "def get_data():\n",
    "        folder_path = \"./dreams\"\n",
    "        count = 0\n",
    "        all_files = []\n",
    "        for i in os.listdir(folder_path):\n",
    "            if i.endswith('.json'):\n",
    "                count+=1\n",
    "                all_files.append(i)\n",
    "        dreams = []\n",
    "        for i in all_files:\n",
    "            full_name  = os.path.join(folder_path,i)\n",
    "            with open(full_name,'r') as f:\n",
    "                data = json.load(f)\n",
    "                for x in data['dreams']:\n",
    "                    cleaned_content = clean_text(x.get(\"content\", \"\"))\n",
    "                    dreams.append({\n",
    "                        \"content\": cleaned_content\n",
    "                    })\n",
    "                    \n",
    "        return pd.DataFrame(dreams)\n",
    "\n",
    "df = get_data()[:1000]\n",
    "#print(df.head())\n",
    "\n",
    "sia = SentimentIntensityAnalyzer()\n",
    "\n",
    "def get_sentiment(text):\n",
    "    return sia.polarity_scores(text)['compound']\n",
    "\n",
    "df['sentiment'] = df['content'].apply(get_sentiment)\n",
    "\n",
    "df = df.sort_values(by='sentiment')\n",
    "print(df)\n",
    "print(df.iloc[0]['content'])\n",
    "print(df.iloc[-1]['content'])\n"
   ]
  }
 ],
 "metadata": {
  "kernelspec": {
   "display_name": ".venv",
   "language": "python",
   "name": "python3"
  },
  "language_info": {
   "codemirror_mode": {
    "name": "ipython",
    "version": 3
   },
   "file_extension": ".py",
   "mimetype": "text/x-python",
   "name": "python",
   "nbconvert_exporter": "python",
   "pygments_lexer": "ipython3",
   "version": "3.13.2"
  }
 },
 "nbformat": 4,
 "nbformat_minor": 2
}
