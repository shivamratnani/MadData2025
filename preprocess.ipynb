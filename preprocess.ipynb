{
 "cells": [
  {
   "cell_type": "code",
   "execution_count": 13,
   "metadata": {},
   "outputs": [],
   "source": [
    "from transformers import BertTokenizer, BertModel, BertForSequenceClassification\n",
    "#from transformers import pipeline\n",
    "# For fine-tuning\n",
    "import torch\n",
    "#from torch import nn\n",
    "#from torch.utils.data import Dataset, DataLoader\n",
    "# For processing\n",
    "import numpy as np\n",
    "import pandas as pd\n",
    "import os\n",
    "import json"
   ]
  },
  {
   "cell_type": "code",
   "execution_count": 28,
   "metadata": {},
   "outputs": [
    {
     "data": {
      "text/html": [
       "<div>\n",
       "<style scoped>\n",
       "    .dataframe tbody tr th:only-of-type {\n",
       "        vertical-align: middle;\n",
       "    }\n",
       "\n",
       "    .dataframe tbody tr th {\n",
       "        vertical-align: top;\n",
       "    }\n",
       "\n",
       "    .dataframe thead th {\n",
       "        text-align: right;\n",
       "    }\n",
       "</style>\n",
       "<table border=\"1\" class=\"dataframe\">\n",
       "  <thead>\n",
       "    <tr style=\"text-align: right;\">\n",
       "      <th></th>\n",
       "      <th>title</th>\n",
       "      <th>dreamer</th>\n",
       "      <th>description</th>\n",
       "      <th>dream</th>\n",
       "    </tr>\n",
       "  </thead>\n",
       "  <tbody>\n",
       "    <tr>\n",
       "      <th>0</th>\n",
       "      <td></td>\n",
       "      <td>david</td>\n",
       "      <td>David: teenage dreams</td>\n",
       "      <td>{'number': '1', 'head': '01/02/90', 'content':...</td>\n",
       "    </tr>\n",
       "    <tr>\n",
       "      <th>1</th>\n",
       "      <td></td>\n",
       "      <td>david</td>\n",
       "      <td>David: teenage dreams</td>\n",
       "      <td>{'number': '2', 'head': '01/13/90', 'content':...</td>\n",
       "    </tr>\n",
       "    <tr>\n",
       "      <th>2</th>\n",
       "      <td></td>\n",
       "      <td>david</td>\n",
       "      <td>David: teenage dreams</td>\n",
       "      <td>{'number': '3', 'head': '01/14/90', 'content':...</td>\n",
       "    </tr>\n",
       "    <tr>\n",
       "      <th>3</th>\n",
       "      <td></td>\n",
       "      <td>david</td>\n",
       "      <td>David: teenage dreams</td>\n",
       "      <td>{'number': '4', 'head': '01/14/90', 'content':...</td>\n",
       "    </tr>\n",
       "    <tr>\n",
       "      <th>4</th>\n",
       "      <td></td>\n",
       "      <td>david</td>\n",
       "      <td>David: teenage dreams</td>\n",
       "      <td>{'number': '5', 'head': '01/14/90', 'content':...</td>\n",
       "    </tr>\n",
       "  </tbody>\n",
       "</table>\n",
       "</div>"
      ],
      "text/plain": [
       "  title dreamer            description  \\\n",
       "0         david  David: teenage dreams   \n",
       "1         david  David: teenage dreams   \n",
       "2         david  David: teenage dreams   \n",
       "3         david  David: teenage dreams   \n",
       "4         david  David: teenage dreams   \n",
       "\n",
       "                                               dream  \n",
       "0  {'number': '1', 'head': '01/02/90', 'content':...  \n",
       "1  {'number': '2', 'head': '01/13/90', 'content':...  \n",
       "2  {'number': '3', 'head': '01/14/90', 'content':...  \n",
       "3  {'number': '4', 'head': '01/14/90', 'content':...  \n",
       "4  {'number': '5', 'head': '01/14/90', 'content':...  "
      ]
     },
     "execution_count": 28,
     "metadata": {},
     "output_type": "execute_result"
    }
   ],
   "source": [
    "folder_path = \"./dreams\"\n",
    "count = 0\n",
    "all_files = []\n",
    "for i in os.listdir(folder_path):\n",
    "    if i.endswith('.json'):\n",
    "        count+=1\n",
    "        all_files.append(i)\n",
    "dreams = []\n",
    "#now that i have all the files, i need to get the dreasm in\n",
    "#each row \n",
    "for i in all_files:\n",
    "    full_name  = os.path.join(folder_path,i)\n",
    "#here, we need to have each row have each dream and dreamer\n",
    "#titel and decsription so 20k rows \n",
    "    with open(full_name,'r') as f:\n",
    "        data = json.load(f)\n",
    "        for x in data['dreams']:\n",
    "            dreams.append({\n",
    "                \"title\":data.get(\"title\",\"\"),\n",
    "                \"dreamer\":data.get(\"dreamer\",\"\"),\n",
    "                \"description\":data.get(\"description\",\"\"),\n",
    "                \"dream\":x\n",
    "            })\n",
    "              \n",
    "df = pd.DataFrame(dreams)\n",
    "#print(count)\n",
    "df.head()"
   ]
  },
  {
   "cell_type": "code",
   "execution_count": 11,
   "metadata": {},
   "outputs": [
    {
     "data": {
      "text/plain": [
       "'I was running up a hill but then all of a sudden there was a hawk who swoop dopwn and sttacked me'"
      ]
     },
     "execution_count": 11,
     "metadata": {},
     "output_type": "execute_result"
    }
   ],
   "source": [
    "#code string for exampel\n",
    "str = \"I was running up a hill but then all of a sudden there was a hawk who swoop dopwn and sttacked me\"\n",
    "str"
   ]
  }
 ],
 "metadata": {
  "kernelspec": {
   "display_name": "ml-env",
   "language": "python",
   "name": "python3"
  },
  "language_info": {
   "codemirror_mode": {
    "name": "ipython",
    "version": 3
   },
   "file_extension": ".py",
   "mimetype": "text/x-python",
   "name": "python",
   "nbconvert_exporter": "python",
   "pygments_lexer": "ipython3",
   "version": "3.10.13"
  }
 },
 "nbformat": 4,
 "nbformat_minor": 2
}
